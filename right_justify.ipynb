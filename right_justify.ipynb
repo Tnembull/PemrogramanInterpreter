{
  "nbformat": 4,
  "nbformat_minor": 0,
  "metadata": {
    "colab": {
      "name": "right.ipynb",
      "provenance": [],
      "authorship_tag": "ABX9TyN21bVk7ZMxqox1bl62ub53",
      "include_colab_link": true
    },
    "kernelspec": {
      "name": "python3",
      "display_name": "Python 3"
    }
  },
  "cells": [
    {
      "cell_type": "markdown",
      "metadata": {
        "id": "view-in-github",
        "colab_type": "text"
      },
      "source": [
        "<a href=\"https://colab.research.google.com/github/Tnembull/PemrogramanInterpreter/blob/master/right_justify.ipynb\" target=\"_parent\"><img src=\"https://colab.research.google.com/assets/colab-badge.svg\" alt=\"Open In Colab\"/></a>"
      ]
    },
    {
      "cell_type": "markdown",
      "metadata": {
        "id": "1rwX4-xYc9l3"
      },
      "source": [
        "#TUGAS PEMROGRAMAN INTERPRETER\n",
        "### Nama : Muhammad Nur Ashiddiqi\n",
        "### NPM : 1857051014\n"
      ]
    },
    {
      "cell_type": "code",
      "metadata": {
        "id": "c0-fxvVdc8wa"
      },
      "source": [
        "def right_justify(s):\n",
        "  panjang = len(s)\n",
        "  print(\" \"*(70-panjang)+s)"
      ],
      "execution_count": 1,
      "outputs": []
    },
    {
      "cell_type": "code",
      "metadata": {
        "id": "XPfPDUT9dTnh",
        "outputId": "8daf4f14-ce1a-4789-d472-1496af3cfff3",
        "colab": {
          "base_uri": "https://localhost:8080/",
          "height": 34
        }
      },
      "source": [
        "right_justify(\"Muhammad Nur Ashiddiqi\")"
      ],
      "execution_count": 2,
      "outputs": [
        {
          "output_type": "stream",
          "text": [
            "                                                Muhammad Nur Ashiddiqi\n"
          ],
          "name": "stdout"
        }
      ]
    },
    {
      "cell_type": "code",
      "metadata": {
        "id": "bA1EFjIIdXx8",
        "outputId": "1e752555-f8da-4ec7-f6cd-3533092f6d50",
        "colab": {
          "base_uri": "https://localhost:8080/",
          "height": 34
        }
      },
      "source": [
        "len(\"                                                Muhammad Nur Ashiddiqi\")"
      ],
      "execution_count": 3,
      "outputs": [
        {
          "output_type": "execute_result",
          "data": {
            "text/plain": [
              "70"
            ]
          },
          "metadata": {
            "tags": []
          },
          "execution_count": 3
        }
      ]
    }
  ]
}